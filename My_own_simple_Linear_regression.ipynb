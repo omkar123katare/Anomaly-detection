{
  "nbformat": 4,
  "nbformat_minor": 0,
  "metadata": {
    "colab": {
      "name": "My_own_simple_Linear_regression.ipynb",
      "provenance": [],
      "authorship_tag": "ABX9TyMwlX2FKAJc/Bcvjgs9NGPK",
      "include_colab_link": true
    },
    "kernelspec": {
      "name": "python3",
      "display_name": "Python 3"
    },
    "language_info": {
      "name": "python"
    }
  },
  "cells": [
    {
      "cell_type": "markdown",
      "metadata": {
        "id": "view-in-github",
        "colab_type": "text"
      },
      "source": [
        "<a href=\"https://colab.research.google.com/github/omkar123katare/Linear_Regression/blob/main/My_own_simple_Linear_regression.ipynb\" target=\"_parent\"><img src=\"https://colab.research.google.com/assets/colab-badge.svg\" alt=\"Open In Colab\"/></a>"
      ]
    },
    {
      "cell_type": "code",
      "source": [
        "X_train,X_test,y_train,y_test= trina_test_split(x,y,test_size=0.2)"
      ],
      "metadata": {
        "id": "T_udEjaSRueR"
      },
      "execution_count": null,
      "outputs": []
    },
    {
      "cell_type": "code",
      "source": [
        "class MeraLR:\n",
        "  def __init__(self):\n",
        "    self.m=None\n",
        "    self.b=None\n",
        "  def fit(self,X_train,y_train):\n",
        "    num=0\n",
        "    den=0\n",
        "    for i in range(X_train.shape[0]):\n",
        "      num=num+((X_train[i]-X_train.mean())*(y_train[i]-y_train.mean()))\n",
        "      den=den+((X_train[i]-X_train.mean()))\n",
        "    self.m=num/den\n",
        "    self.b=y_train.mean()-self.m*X_train.mean()\n",
        "    print(self.m)\n",
        "    print(self.b)\n",
        "  def predict(self,X_test):\n",
        "    return self.m=X_test+self.b"
      ],
      "metadata": {
        "id": "emmCzeQzeCxE"
      },
      "execution_count": null,
      "outputs": []
    },
    {
      "cell_type": "markdown",
      "source": [
        "Now we use my own simple linear regresison class"
      ],
      "metadata": {
        "id": "U_we4CH1gmNJ"
      }
    },
    {
      "cell_type": "code",
      "source": [
        "#creating object\n",
        "LR=MeraLR()\n",
        "LR.fit(X_train,y_train)\n",
        "LR.predict(X_test)"
      ],
      "metadata": {
        "id": "ezh-GJtEglzq"
      },
      "execution_count": null,
      "outputs": []
    }
  ]
}