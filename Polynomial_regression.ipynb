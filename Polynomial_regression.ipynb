{
  "nbformat": 4,
  "nbformat_minor": 0,
  "metadata": {
    "colab": {
      "name": "Polynomial_regression.ipynb",
      "provenance": [],
      "authorship_tag": "ABX9TyMpZyMIOsO2jWWrs3hGETUI",
      "include_colab_link": true
    },
    "kernelspec": {
      "name": "python3",
      "display_name": "Python 3"
    },
    "language_info": {
      "name": "python"
    }
  },
  "cells": [
    {
      "cell_type": "markdown",
      "metadata": {
        "id": "view-in-github",
        "colab_type": "text"
      },
      "source": [
        "<a href=\"https://colab.research.google.com/github/omkar123katare/Linear_Regression/blob/main/Polynomial_regression.ipynb\" target=\"_parent\"><img src=\"https://colab.research.google.com/assets/colab-badge.svg\" alt=\"Open In Colab\"/></a>"
      ]
    },
    {
      "cell_type": "markdown",
      "source": [
        "Preprocessing required for Polynomial Regression\n"
      ],
      "metadata": {
        "id": "bC6U75ZJrfYB"
      }
    },
    {
      "cell_type": "code",
      "execution_count": 1,
      "metadata": {
        "id": "plFcIItorbFj"
      },
      "outputs": [],
      "source": [
        "from sklearn.preprocessing import PolynomialFeatures"
      ]
    },
    {
      "cell_type": "code",
      "source": [
        "#creating object\n",
        "poly_object=PolynomialFeatures(degree=3)\n",
        "X_train_transformed=poly_object.fit_transform(X_train)\n",
        "X_test_transformed=poly_object.transform(X_test)"
      ],
      "metadata": {
        "id": "crna0S6krrNE"
      },
      "execution_count": null,
      "outputs": []
    }
  ]
}