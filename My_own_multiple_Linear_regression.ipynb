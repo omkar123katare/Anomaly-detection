{
  "nbformat": 4,
  "nbformat_minor": 0,
  "metadata": {
    "colab": {
      "name": "Linear_regression.ipynb",
      "provenance": [],
      "authorship_tag": "ABX9TyOb5UUc5hDIHVwH7J0lgEYi",
      "include_colab_link": true
    },
    "kernelspec": {
      "name": "python3",
      "display_name": "Python 3"
    },
    "language_info": {
      "name": "python"
    }
  },
  "cells": [
    {
      "cell_type": "markdown",
      "metadata": {
        "id": "view-in-github",
        "colab_type": "text"
      },
      "source": [
        "<a href=\"https://colab.research.google.com/github/omkar123katare/Anomaly-detection/blob/main/Linear_regression.ipynb\" target=\"_parent\"><img src=\"https://colab.research.google.com/assets/colab-badge.svg\" alt=\"Open In Colab\"/></a>"
      ]
    },
    {
      "cell_type": "markdown",
      "source": [
        "Linear regression can be broadly classified into \n",
        "1. simple linear regression\n",
        "2. multiple linear regression\n",
        "3. Polynomial regression"
      ],
      "metadata": {
        "id": "oJ9of4QWRdE1"
      }
    },
    {
      "cell_type": "markdown",
      "source": [
        "Real world data is never linear. Stochastic errors are always present in the data. So, real worl data is sort of linear but not perfectly linear."
      ],
      "metadata": {
        "id": "Gj9KFTpORu8B"
      }
    },
    {
      "cell_type": "markdown",
      "source": [
        "Our aim of implementing Linear regression is to obtain a line for which is MSE is minimum i.e. residuals are minimum."
      ],
      "metadata": {
        "id": "Zz0S_K8qSBDL"
      }
    },
    {
      "cell_type": "code",
      "source": [
        ""
      ],
      "metadata": {
        "id": "T_udEjaSRueR"
      },
      "execution_count": null,
      "outputs": []
    }
  ]
}
